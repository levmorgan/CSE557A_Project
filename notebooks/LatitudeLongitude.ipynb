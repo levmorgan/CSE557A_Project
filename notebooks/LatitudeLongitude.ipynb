{
 "cells": [
  {
   "cell_type": "code",
   "execution_count": 1,
   "metadata": {},
   "outputs": [],
   "source": [
    "import pandas as pd \n",
    "import numpy as np"
   ]
  },
  {
   "cell_type": "code",
   "execution_count": 37,
   "metadata": {},
   "outputs": [],
   "source": [
    "def rgbMap(r, g, b):\n",
    "    if r == 255 and g == 64 and b == 255:\n",
    "        return 'Cornertown'\n",
    "    elif r == 4 and g == 51 and b == 255:\n",
    "        return 'Northville'\n",
    "    elif r == 0 and g == 253 and b == 255:\n",
    "        return 'Riverside'\n",
    "    elif r == 255 and g == 38 and b == 0:\n",
    "        return 'Suburbia'\n",
    "    elif r == 148 and g == 33 and b == 146:\n",
    "        return 'Villa'\n",
    "    elif r == 255 and g == 98 and b == 81:\n",
    "        return 'Smogtown'\n",
    "    elif r == 0 and g == 163 and b == 215:\n",
    "        return 'Westside'\n",
    "    elif r == 170 and g == 121 and b == 66:\n",
    "        return 'Plainville'\n",
    "    elif r == 0 and g == 249 and b == 0:\n",
    "        return 'Downtown'\n",
    "    elif r == 255 and g == 147 and b == 0:\n",
    "        return 'Uptown'\n",
    "    elif r == 145 and g == 145 and b == 145:\n",
    "        return 'Lakeside'\n",
    "    elif r == 255 and g == 251 and b == 0:\n",
    "        return 'Eastside'\n",
    "    else:\n",
    "        return 'UNDEFINED'"
   ]
  },
  {
   "cell_type": "code",
   "execution_count": 38,
   "metadata": {},
   "outputs": [],
   "source": [
    "def region(x):\n",
    "    if int(x['x']) < width and int(x['y']) < height:\n",
    "        pixel = vastopolis.getpixel((int(x['x']), int(x['y'])))\n",
    "        return rgbMap(pixel[0], pixel[1], pixel[2])\n",
    "    else:\n",
    "        return \"UNDEFINED\""
   ]
  },
  {
   "cell_type": "code",
   "execution_count": 45,
   "metadata": {},
   "outputs": [],
   "source": [
    "data_full = pd.read_csv(\"../a3_data/Microblogs.csv\",encoding='latin-1')"
   ]
  },
  {
   "cell_type": "code",
   "execution_count": 47,
   "metadata": {},
   "outputs": [],
   "source": [
    "data_full[\"loc1\"] = data_full[\"Location\"].apply(lambda x: float(x.split(\" \")[0]))\n",
    "data_full[\"loc2\"] = data_full[\"Location\"].apply(lambda x: float(x.split(\" \")[1]))"
   ]
  },
  {
   "cell_type": "code",
   "execution_count": 51,
   "metadata": {},
   "outputs": [],
   "source": [
    "l1_min = data_full[\"loc1\"].min()\n",
    "l1_range = data_full[\"loc1\"].max() - l1_min"
   ]
  },
  {
   "cell_type": "code",
   "execution_count": 52,
   "metadata": {},
   "outputs": [],
   "source": [
    "l2_min = data_full[\"loc2\"].min()\n",
    "l2_range = data_full[\"loc2\"].max() - l2_min"
   ]
  },
  {
   "cell_type": "code",
   "execution_count": 43,
   "metadata": {},
   "outputs": [],
   "source": [
    "data = pd.read_csv(\"../a3_data/disease_posts.csv\",encoding='latin-1')"
   ]
  },
  {
   "cell_type": "code",
   "execution_count": 5,
   "metadata": {},
   "outputs": [],
   "source": [
    "data['x'] = np.nan\n",
    "data['y'] = np.nan\n",
    "data['region'] = np.nan"
   ]
  },
  {
   "cell_type": "code",
   "execution_count": 6,
   "metadata": {},
   "outputs": [],
   "source": [
    "from PIL import Image\n",
    "vastopolis = Image.open(\"../a3_data/Vastopolis_Map_Regions.png\")\n",
    "vastopolis = vastopolis.convert(\"RGB\")\n",
    "width, height = vastopolis.size"
   ]
  },
  {
   "cell_type": "code",
   "execution_count": 20,
   "metadata": {},
   "outputs": [],
   "source": [
    "# y = lambda y: height*(float(y[\"Location\"].split(\" \")[0]) - 42.1609)/0.1408\n",
    "# x = lambda x: width - (width*(float(x[\"Location\"].split(\" \")[1]) - 93.1923 )/.375)"
   ]
  },
  {
   "cell_type": "code",
   "execution_count": 54,
   "metadata": {},
   "outputs": [],
   "source": [
    "y = lambda y: height*(float(y[\"Location\"].split(\" \")[0]) - l1_min)/l1_range\n",
    "x = lambda x: width - (width*(float(x[\"Location\"].split(\" \")[1]) - l2_min )/l2_range)"
   ]
  },
  {
   "cell_type": "code",
   "execution_count": 55,
   "metadata": {},
   "outputs": [],
   "source": [
    "data[\"x\"] = data.apply(x, axis=1)\n",
    "data[\"y\"] = data.apply(y, axis=1)"
   ]
  },
  {
   "cell_type": "code",
   "execution_count": 56,
   "metadata": {},
   "outputs": [],
   "source": [
    "data[\"region\"] = data.apply(region, axis=1)"
   ]
  },
  {
   "cell_type": "code",
   "execution_count": 57,
   "metadata": {},
   "outputs": [
    {
     "output_type": "execute_result",
     "data": {
      "text/plain": [
       "           ID       Created_at           Location  \\\n",
       "0       89856   4/30/2011 5:14    42.22036 93.505   \n",
       "1        6905  4/30/2011 16:30  42.28287 93.51099   \n",
       "2      119153   4/30/2011 0:54  42.25221 93.38917   \n",
       "3      119355   4/30/2011 7:00  42.25044 93.49701   \n",
       "4      119777  4/30/2011 19:58  42.21565 93.37519   \n",
       "...       ...              ...                ...   \n",
       "81699  132816  5/20/2011 18:49   42.1952 93.45904   \n",
       "81700   12984  5/20/2011 16:35  42.22641 93.34523   \n",
       "81701  132814   5/20/2011 7:50  42.27255 93.21862   \n",
       "81702  132864  5/20/2011 17:35  42.20324 93.49239   \n",
       "81703       4  5/20/2011 20:28   42.2183 93.38957   \n",
       "\n",
       "                                                    text  \\\n",
       "0                                cold water is the worst   \n",
       "1      His throat issues began on the bad tour. which...   \n",
       "2      Public Enemies again! Johnny Depp! What I mean...   \n",
       "3      He a doctor and u a dumb ass so ima listen to him   \n",
       "4                    Omg! #Ochocinco is sooooo hot #fact   \n",
       "...                                                  ...   \n",
       "81699        this diarrhea is killing me and I hate this   \n",
       "81700  so much for a good night this flu is making me...   \n",
       "81701  tonight blows this case of the chills is killi...   \n",
       "81702  this case of the chills had me down for the co...   \n",
       "81703  Christian has caught a pneumonia home is where...   \n",
       "\n",
       "                                                   words  keep        date  \\\n",
       "0                ['cold', 'water', 'is', 'the', 'worst']  True  2011-04-30   \n",
       "1      ['His', 'throat', 'issues', 'began', 'on', 'th...  True  2011-04-30   \n",
       "2      ['Public', 'Enemies', 'again!', 'Johnny', 'Dep...  True  2011-04-30   \n",
       "3      ['He', 'a', 'doctor', 'and', 'u', 'a', 'dumb',...  True  2011-04-30   \n",
       "4      ['Omg!', '#Ochocinco', 'is', 'sooooo', 'hot', ...  True  2011-04-30   \n",
       "...                                                  ...   ...         ...   \n",
       "81699  ['this', 'diarrhea', 'is', 'killing', 'me', 'a...  True  2011-05-20   \n",
       "81700  ['so', 'much', 'for', 'a', 'good', 'night', 't...  True  2011-05-20   \n",
       "81701  ['tonight', 'blows', 'this', 'case', 'of', 'th...  True  2011-05-20   \n",
       "81702  ['this', 'case', 'of', 'the', 'chills', 'had',...  True  2011-05-20   \n",
       "81703  ['Christian', 'has', 'caught', 'a', 'pneumonia...  True  2011-05-20   \n",
       "\n",
       "                 x            y      region  \n",
       "0       862.893827  1110.425437    Westside  \n",
       "1       779.941909  2299.406151  Plainville  \n",
       "2      2466.954042  1716.233080    Downtown  \n",
       "3       973.542546  1682.566533    Westside  \n",
       "4      2660.554679  1020.838185   Riverside  \n",
       "...            ...          ...         ...  \n",
       "81699  1499.366308   631.865931    Westside  \n",
       "81700  3075.452755  1225.500358      Uptown  \n",
       "81701  4828.798726  2103.113063    Lakeside  \n",
       "81702  1037.522156   784.791941    Westside  \n",
       "81703  2461.414682  1071.242902   Riverside  \n",
       "\n",
       "[81704 rows x 10 columns]"
      ],
      "text/html": "<div>\n<style scoped>\n    .dataframe tbody tr th:only-of-type {\n        vertical-align: middle;\n    }\n\n    .dataframe tbody tr th {\n        vertical-align: top;\n    }\n\n    .dataframe thead th {\n        text-align: right;\n    }\n</style>\n<table border=\"1\" class=\"dataframe\">\n  <thead>\n    <tr style=\"text-align: right;\">\n      <th></th>\n      <th>ID</th>\n      <th>Created_at</th>\n      <th>Location</th>\n      <th>text</th>\n      <th>words</th>\n      <th>keep</th>\n      <th>date</th>\n      <th>x</th>\n      <th>y</th>\n      <th>region</th>\n    </tr>\n  </thead>\n  <tbody>\n    <tr>\n      <th>0</th>\n      <td>89856</td>\n      <td>4/30/2011 5:14</td>\n      <td>42.22036 93.505</td>\n      <td>cold water is the worst</td>\n      <td>['cold', 'water', 'is', 'the', 'worst']</td>\n      <td>True</td>\n      <td>2011-04-30</td>\n      <td>862.893827</td>\n      <td>1110.425437</td>\n      <td>Westside</td>\n    </tr>\n    <tr>\n      <th>1</th>\n      <td>6905</td>\n      <td>4/30/2011 16:30</td>\n      <td>42.28287 93.51099</td>\n      <td>His throat issues began on the bad tour. which...</td>\n      <td>['His', 'throat', 'issues', 'began', 'on', 'th...</td>\n      <td>True</td>\n      <td>2011-04-30</td>\n      <td>779.941909</td>\n      <td>2299.406151</td>\n      <td>Plainville</td>\n    </tr>\n    <tr>\n      <th>2</th>\n      <td>119153</td>\n      <td>4/30/2011 0:54</td>\n      <td>42.25221 93.38917</td>\n      <td>Public Enemies again! Johnny Depp! What I mean...</td>\n      <td>['Public', 'Enemies', 'again!', 'Johnny', 'Dep...</td>\n      <td>True</td>\n      <td>2011-04-30</td>\n      <td>2466.954042</td>\n      <td>1716.233080</td>\n      <td>Downtown</td>\n    </tr>\n    <tr>\n      <th>3</th>\n      <td>119355</td>\n      <td>4/30/2011 7:00</td>\n      <td>42.25044 93.49701</td>\n      <td>He a doctor and u a dumb ass so ima listen to him</td>\n      <td>['He', 'a', 'doctor', 'and', 'u', 'a', 'dumb',...</td>\n      <td>True</td>\n      <td>2011-04-30</td>\n      <td>973.542546</td>\n      <td>1682.566533</td>\n      <td>Westside</td>\n    </tr>\n    <tr>\n      <th>4</th>\n      <td>119777</td>\n      <td>4/30/2011 19:58</td>\n      <td>42.21565 93.37519</td>\n      <td>Omg! #Ochocinco is sooooo hot #fact</td>\n      <td>['Omg!', '#Ochocinco', 'is', 'sooooo', 'hot', ...</td>\n      <td>True</td>\n      <td>2011-04-30</td>\n      <td>2660.554679</td>\n      <td>1020.838185</td>\n      <td>Riverside</td>\n    </tr>\n    <tr>\n      <th>...</th>\n      <td>...</td>\n      <td>...</td>\n      <td>...</td>\n      <td>...</td>\n      <td>...</td>\n      <td>...</td>\n      <td>...</td>\n      <td>...</td>\n      <td>...</td>\n      <td>...</td>\n    </tr>\n    <tr>\n      <th>81699</th>\n      <td>132816</td>\n      <td>5/20/2011 18:49</td>\n      <td>42.1952 93.45904</td>\n      <td>this diarrhea is killing me and I hate this</td>\n      <td>['this', 'diarrhea', 'is', 'killing', 'me', 'a...</td>\n      <td>True</td>\n      <td>2011-05-20</td>\n      <td>1499.366308</td>\n      <td>631.865931</td>\n      <td>Westside</td>\n    </tr>\n    <tr>\n      <th>81700</th>\n      <td>12984</td>\n      <td>5/20/2011 16:35</td>\n      <td>42.22641 93.34523</td>\n      <td>so much for a good night this flu is making me...</td>\n      <td>['so', 'much', 'for', 'a', 'good', 'night', 't...</td>\n      <td>True</td>\n      <td>2011-05-20</td>\n      <td>3075.452755</td>\n      <td>1225.500358</td>\n      <td>Uptown</td>\n    </tr>\n    <tr>\n      <th>81701</th>\n      <td>132814</td>\n      <td>5/20/2011 7:50</td>\n      <td>42.27255 93.21862</td>\n      <td>tonight blows this case of the chills is killi...</td>\n      <td>['tonight', 'blows', 'this', 'case', 'of', 'th...</td>\n      <td>True</td>\n      <td>2011-05-20</td>\n      <td>4828.798726</td>\n      <td>2103.113063</td>\n      <td>Lakeside</td>\n    </tr>\n    <tr>\n      <th>81702</th>\n      <td>132864</td>\n      <td>5/20/2011 17:35</td>\n      <td>42.20324 93.49239</td>\n      <td>this case of the chills had me down for the co...</td>\n      <td>['this', 'case', 'of', 'the', 'chills', 'had',...</td>\n      <td>True</td>\n      <td>2011-05-20</td>\n      <td>1037.522156</td>\n      <td>784.791941</td>\n      <td>Westside</td>\n    </tr>\n    <tr>\n      <th>81703</th>\n      <td>4</td>\n      <td>5/20/2011 20:28</td>\n      <td>42.2183 93.38957</td>\n      <td>Christian has caught a pneumonia home is where...</td>\n      <td>['Christian', 'has', 'caught', 'a', 'pneumonia...</td>\n      <td>True</td>\n      <td>2011-05-20</td>\n      <td>2461.414682</td>\n      <td>1071.242902</td>\n      <td>Riverside</td>\n    </tr>\n  </tbody>\n</table>\n<p>81704 rows × 10 columns</p>\n</div>"
     },
     "metadata": {},
     "execution_count": 57
    }
   ],
   "source": [
    "data"
   ]
  },
  {
   "cell_type": "code",
   "execution_count": 58,
   "metadata": {},
   "outputs": [],
   "source": [
    "data.to_csv(\"../a3_data/data.csv\", index=False)"
   ]
  },
  {
   "cell_type": "markdown",
   "metadata": {},
   "source": [
    "print(red_image_rgb.getpixel((700,2400))"
   ]
  },
  {
   "cell_type": "code",
   "execution_count": 25,
   "metadata": {},
   "outputs": [
    {
     "output_type": "execute_result",
     "data": {
      "text/plain": [
       "Index(['ID', 'Created_at', 'Location', 'text', 'words', 'keep', 'date', 'x',\n",
       "       'y', 'region'],\n",
       "      dtype='object')"
      ]
     },
     "metadata": {},
     "execution_count": 25
    }
   ],
   "source": [
    "data.columns"
   ]
  },
  {
   "cell_type": "code",
   "execution_count": 28,
   "metadata": {},
   "outputs": [
    {
     "output_type": "stream",
     "name": "stdout",
     "text": [
      "Westside\nPlainville\nDowntown\nWestside\nRiverside\n"
     ]
    },
    {
     "output_type": "execute_result",
     "data": {
      "text/plain": [
       "0    None\n",
       "1    None\n",
       "2    None\n",
       "3    None\n",
       "4    None\n",
       "dtype: object"
      ]
     },
     "metadata": {},
     "execution_count": 28
    }
   ],
   "source": [
    "data.iloc[:5, :].apply(lambda row: print(row[\"region\"]), axis=1)"
   ]
  },
  {
   "cell_type": "code",
   "execution_count": null,
   "metadata": {},
   "outputs": [],
   "source": []
  }
 ],
 "metadata": {
  "kernelspec": {
   "display_name": "Python 3",
   "language": "python",
   "name": "python3"
  },
  "language_info": {
   "codemirror_mode": {
    "name": "ipython",
    "version": 3
   },
   "file_extension": ".py",
   "mimetype": "text/x-python",
   "name": "python",
   "nbconvert_exporter": "python",
   "pygments_lexer": "ipython3",
   "version": "3.7.7-final"
  }
 },
 "nbformat": 4,
 "nbformat_minor": 4
}